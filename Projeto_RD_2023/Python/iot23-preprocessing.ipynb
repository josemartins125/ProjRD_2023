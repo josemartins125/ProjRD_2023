{
 "cells": [
  {
   "cell_type": "code",
   "execution_count": 224,
   "id": "choice-fitness",
   "metadata": {},
   "outputs": [],
   "source": [
    "import pandas as pd"
   ]
  },
  {
   "cell_type": "code",
   "execution_count": 225,
   "id": "experienced-pepper",
   "metadata": {},
   "outputs": [],
   "source": [
    "capture_34 = \"BigDataset/IoTScenarios/CTU-IoT-Malware-Capture-34-1/bro/conn.log.labeled\"\n",
    "capture_43 = \"BigDataset/IoTScenarios/CTU-IoT-Malware-Capture-43-1/bro/conn.log.labeled\"\n",
    "capture_44 = \"BigDataset/IoTScenarios/CTU-IoT-Malware-Capture-44-1/bro/conn.log.labeled\"\n",
    "capture_49 = \"BigDataset/IoTScenarios/CTU-IoT-Malware-Capture-49-1/bro/conn.log.labeled\"\n",
    "capture_52 = \"BigDataset/IoTScenarios/CTU-IoT-Malware-Capture-52-1/bro/conn.log.labeled\"\n",
    "capture_20 = \"BigDataset/IoTScenarios/CTU-IoT-Malware-Capture-20-1/bro/conn.log.labeled\"\n",
    "capture_21 = \"BigDataset/IoTScenarios/CTU-IoT-Malware-Capture-21-1/bro/conn.log.labeled\"\n",
    "capture_42 = \"BigDataset/IoTScenarios/CTU-IoT-Malware-Capture-42-1/bro/conn.log.labeled\"\n",
    "capture_60 = \"BigDataset/IoTScenarios/CTU-IoT-Malware-Capture-60-1/bro/conn.log.labeled\"\n",
    "capture_17 = \"BigDataset/IoTScenarios/CTU-IoT-Malware-Capture-17-1/bro/conn.log.labeled\"\n",
    "capture_36 = \"BigDataset/IoTScenarios/CTU-IoT-Malware-Capture-36-1/bro/conn.log.labeled\"\n",
    "capture_33 = \"BigDataset/IoTScenarios/CTU-IoT-Malware-Capture-33-1/bro/conn.log.labeled\"\n",
    "capture_8 = \"BigDataset/IoTScenarios/CTU-IoT-Malware-Capture-8-1/bro/conn.log.labeled\"\n",
    "capture_35 = \"BigDataset/IoTScenarios/CTU-IoT-Malware-Capture-35-1/bro/conn.log.labeled\"\n",
    "capture_48 = \"BigDataset/IoTScenarios/CTU-IoT-Malware-Capture-48-1/bro/conn.log.labeled\"\n",
    "capture_39 = \"BigDataset/IoTScenarios/CTU-IoT-Malware-Capture-39-1/bro/conn.log.labeled\"\n",
    "capture_7 = \"BigDataset/IoTScenarios/CTU-IoT-Malware-Capture-7-1/bro/conn.log.labeled\"\n",
    "capture_9 = \"BigDataset/IoTScenarios/CTU-IoT-Malware-Capture-9-1/bro/conn.log.labeled\"\n",
    "capture_3 = \"BigDataset/IoTScenarios/CTU-IoT-Malware-Capture-3-1/bro/conn.log.labeled\"\n",
    "capture_1 = \"BigDataset/IoTScenarios/CTU-IoT-Malware-Capture-1-1/bro/conn.log.labeled\""
   ]
  },
  {
   "cell_type": "code",
   "execution_count": 226,
   "id": "66dfc97a",
   "metadata": {},
   "outputs": [
    {
     "name": "stdout",
     "output_type": "stream",
     "text": [
      "-   Benign   -                                     49939\n",
      "(empty)   Malicious   PartOfAHorizontalPortScan    49165\n",
      "(empty)   Benign   -                                 834\n",
      "-   Malicious   C&C                                   55\n",
      "-   Malicious   C&C-FileDownload                       5\n",
      "Name: label, dtype: int64\n"
     ]
    }
   ],
   "source": [
    "df9 = pd.read_table(filepath_or_buffer=capture_9, skiprows=10, nrows=50000)\n",
    "df9.columns=['ts',\n",
    "              'uid',\n",
    "              'id.orig_h',\n",
    "              'id.orig_p',\n",
    "              'id.resp_h',\n",
    "              'id.resp_p',\n",
    "              'proto',\n",
    "              'service',\n",
    "              'duration',\n",
    "              'orig_bytes',\n",
    "              'resp_bytes',\n",
    "              'conn_state',\n",
    "              'local_orig',\n",
    "              'local_resp',\n",
    "              'missed_bytes',\n",
    "              'history',\n",
    "              'orig_pkts',\n",
    "              'orig_ip_bytes',\n",
    "              'resp_pkts',\n",
    "              'resp_ip_bytes',\n",
    "              'label']\n",
    "df9.drop(df9.tail(1).index,inplace=True)\n",
    "\n",
    "df35 = pd.read_table(filepath_or_buffer=capture_35, skiprows=10, nrows=50000)\n",
    "df35.columns=['ts',\n",
    "              'uid',\n",
    "              'id.orig_h',\n",
    "              'id.orig_p',\n",
    "              'id.resp_h',\n",
    "              'id.resp_p',\n",
    "              'proto',\n",
    "              'service',\n",
    "              'duration',\n",
    "              'orig_bytes',\n",
    "              'resp_bytes',\n",
    "              'conn_state',\n",
    "              'local_orig',\n",
    "              'local_resp',\n",
    "              'missed_bytes',\n",
    "              'history',\n",
    "              'orig_pkts',\n",
    "              'orig_ip_bytes',\n",
    "              'resp_pkts',\n",
    "              'resp_ip_bytes',\n",
    "              'label']\n",
    "df35.drop(df35.tail(1).index,inplace=True)\n",
    "\n",
    "frames = [df9, df35]\n",
    "result = pd.concat(frames)\n",
    "df1 = result.copy()\n",
    "print(df1['label'].value_counts())\n",
    "\n"
   ]
  },
  {
   "cell_type": "code",
   "execution_count": 227,
   "id": "advance-region",
   "metadata": {},
   "outputs": [
    {
     "data": {
      "text/plain": [
       "-   Malicious   PartOfAHorizontalPortScan    56835\n",
       "-   Benign   -                               30006\n",
       "-   Malicious   Okiru                        13116\n",
       "-   Malicious   C&C                             29\n",
       "-   Malicious   C&C-FileDownload                13\n",
       "Name: label, dtype: int64"
      ]
     },
     "execution_count": 227,
     "metadata": {},
     "output_type": "execute_result"
    }
   ],
   "source": [
    "df2 = pd.read_table(filepath_or_buffer=capture_43, skiprows=10, nrows=100000)\n",
    "df2.columns=['ts',\n",
    "              'uid',\n",
    "              'id.orig_h',\n",
    "              'id.orig_p',\n",
    "              'id.resp_h',\n",
    "              'id.resp_p',\n",
    "              'proto',\n",
    "              'service',\n",
    "              'duration',\n",
    "              'orig_bytes',\n",
    "              'resp_bytes',\n",
    "              'conn_state',\n",
    "              'local_orig',\n",
    "              'local_resp',\n",
    "              'missed_bytes',\n",
    "              'history',\n",
    "              'orig_pkts',\n",
    "              'orig_ip_bytes',\n",
    "              'resp_pkts',\n",
    "              'resp_ip_bytes',\n",
    "              'label']\n",
    "df2.drop(df2.tail(1).index,inplace=True)\n",
    "df2['label'].value_counts()"
   ]
  },
  {
   "cell_type": "code",
   "execution_count": 228,
   "id": "derived-tooth",
   "metadata": {},
   "outputs": [
    {
     "data": {
      "text/plain": [
       "(empty)   Malicious   C&C    8222\n",
       "(empty)   Benign   -         2178\n",
       "Name: label, dtype: int64"
      ]
     },
     "execution_count": 228,
     "metadata": {},
     "output_type": "execute_result"
    }
   ],
   "source": [
    "df4 = pd.read_table(filepath_or_buffer=capture_8, skiprows=10, nrows=100000)\n",
    "df4.columns=['ts',\n",
    "              'uid',\n",
    "              'id.orig_h',\n",
    "              'id.orig_p',\n",
    "              'id.resp_h',\n",
    "              'id.resp_p',\n",
    "              'proto',\n",
    "              'service',\n",
    "              'duration',\n",
    "              'orig_bytes',\n",
    "              'resp_bytes',\n",
    "              'conn_state',\n",
    "              'local_orig',\n",
    "              'local_resp',\n",
    "              'missed_bytes',\n",
    "              'history',\n",
    "              'orig_pkts',\n",
    "              'orig_ip_bytes',\n",
    "              'resp_pkts',\n",
    "              'resp_ip_bytes',\n",
    "              'label']\n",
    "df4.drop(df4.tail(1).index,inplace=True)\n",
    "df4['label'].value_counts()"
   ]
  },
  {
   "cell_type": "code",
   "execution_count": 229,
   "id": "unlimited-waters",
   "metadata": {},
   "outputs": [
    {
     "data": {
      "text/plain": [
       "(empty)   Malicious   PartOfAHorizontalPortScan    55043\n",
       "(empty)   Benign   -                               44956\n",
       "Name: label, dtype: int64"
      ]
     },
     "execution_count": 229,
     "metadata": {},
     "output_type": "execute_result"
    }
   ],
   "source": [
    "df3 = pd.read_table(filepath_or_buffer=capture_1, skiprows=10, nrows=100001)\n",
    "df3.columns=['ts',\n",
    "              'uid',\n",
    "              'id.orig_h',\n",
    "              'id.orig_p',\n",
    "              'id.resp_h',\n",
    "              'id.resp_p',\n",
    "              'proto',\n",
    "              'service',\n",
    "              'duration',\n",
    "              'orig_bytes',\n",
    "              'resp_bytes',\n",
    "              'conn_state',\n",
    "              'local_orig',\n",
    "              'local_resp',\n",
    "              'missed_bytes',\n",
    "              'history',\n",
    "              'orig_pkts',\n",
    "              'orig_ip_bytes',\n",
    "              'resp_pkts',\n",
    "              'resp_ip_bytes',\n",
    "              'label']\n",
    "df3.drop(df3.tail(1).index,inplace=True)\n",
    "df3['label'].value_counts()"
   ]
  },
  {
   "cell_type": "code",
   "execution_count": 230,
   "id": "indirect-plymouth",
   "metadata": {},
   "outputs": [],
   "source": [
    "frames=[df1, df2, df3]"
   ]
  },
  {
   "cell_type": "code",
   "execution_count": 231,
   "id": "union-telling",
   "metadata": {},
   "outputs": [],
   "source": [
    "df_c=pd.concat(frames)"
   ]
  },
  {
   "cell_type": "code",
   "execution_count": 233,
   "id": "silver-royal",
   "metadata": {},
   "outputs": [
    {
     "data": {
      "text/plain": [
       "(299996, 21)"
      ]
     },
     "execution_count": 233,
     "metadata": {},
     "output_type": "execute_result"
    }
   ],
   "source": [
    "df_c.shape"
   ]
  },
  {
   "cell_type": "code",
   "execution_count": 234,
   "id": "rural-buffer",
   "metadata": {},
   "outputs": [
    {
     "data": {
      "text/plain": [
       "(empty)   Malicious   PartOfAHorizontalPortScan    104208\n",
       "-   Benign   -                                      79945\n",
       "-   Malicious   PartOfAHorizontalPortScan           56835\n",
       "(empty)   Benign   -                                45790\n",
       "-   Malicious   Okiru                               13116\n",
       "-   Malicious   C&C                                    84\n",
       "-   Malicious   C&C-FileDownload                       18\n",
       "Name: label, dtype: int64"
      ]
     },
     "execution_count": 234,
     "metadata": {},
     "output_type": "execute_result"
    }
   ],
   "source": [
    "df_c['label'].value_counts()"
   ]
  },
  {
   "cell_type": "code",
   "execution_count": 235,
   "id": "tired-independence",
   "metadata": {},
   "outputs": [],
   "source": [
    "df_c.loc[(df_c.label == '-   Malicious   PartOfAHorizontalPortScan'), 'label'] = 'Malicious'\n",
    "df_c.loc[(df_c.label == '(empty)   Malicious   PartOfAHorizontalPortScan'), 'label'] = 'Malicious'\n",
    "df_c.loc[(df_c.label == '-   Malicious   Okiru'), 'label'] = 'Malicious'\n",
    "df_c.loc[(df_c.label == '(empty)   Malicious   Okiru'), 'label'] = 'Malicious'\n",
    "df_c.loc[(df_c.label == '-   Benign   -'), 'label'] = 'Benign'\n",
    "df_c.loc[(df_c.label == '(empty)   Benign   -'), 'label'] = 'Benign'\n",
    "df_c.loc[(df_c.label == '-   Malicious   DDoS'), 'label'] = 'Malicious'\n",
    "df_c.loc[(df_c.label == '-   Malicious   C&C'), 'label'] = 'Malicious'\n",
    "df_c.loc[(df_c.label == '(empty)   Malicious   C&C'), 'label'] = 'Malicious'\n",
    "df_c.loc[(df_c.label == '-   Malicious   Attack'), 'label'] = 'Malicious'\n",
    "df_c.loc[(df_c.label == '(empty)   Malicious   Attack'), 'label'] = 'Malicious'\n",
    "df_c.loc[(df_c.label == '-   Malicious   C&C-HeartBeat'), 'label'] = 'Malicious'\n",
    "df_c.loc[(df_c.label == '(empty)   Malicious   C&C-HeartBeat'), 'label'] = 'Malicious'\n",
    "df_c.loc[(df_c.label == '-   Malicious   C&C-FileDownload'), 'label'] = 'Malicious'\n",
    "df_c.loc[(df_c.label == '-   Malicious   C&C-Torii'), 'label'] = 'Malicious'\n",
    "df_c.loc[(df_c.label == '-   Malicious   C&C-HeartBeat-FileDownload'), 'label'] = 'Malicious'\n",
    "df_c.loc[(df_c.label == '-   Malicious   FileDownload'), 'label'] = 'Malicious'\n",
    "df_c.loc[(df_c.label == '-   Malicious   C&C-Mirai'), 'label'] = 'Malicious'\n",
    "df_c.loc[(df_c.label == '-   Malicious   Okiru-Attack'), 'label'] = 'Malicious'"
   ]
  },
  {
   "attachments": {},
   "cell_type": "markdown",
   "id": "adjacent-desperate",
   "metadata": {},
   "source": [
    "13 types of malicious attack"
   ]
  },
  {
   "cell_type": "code",
   "execution_count": 236,
   "id": "wanted-might",
   "metadata": {},
   "outputs": [
    {
     "data": {
      "text/plain": [
       "Malicious    174261\n",
       "Benign       125735\n",
       "Name: label, dtype: int64"
      ]
     },
     "execution_count": 236,
     "metadata": {},
     "output_type": "execute_result"
    }
   ],
   "source": [
    "df_c['label'].value_counts()"
   ]
  },
  {
   "cell_type": "code",
   "execution_count": 237,
   "id": "champion-lawrence",
   "metadata": {},
   "outputs": [],
   "source": [
    "pd.options.display.max_rows = 300\n",
    "pd.options.display.max_columns = 300"
   ]
  },
  {
   "cell_type": "code",
   "execution_count": 238,
   "id": "planned-deadline",
   "metadata": {},
   "outputs": [],
   "source": [
    "df_c = pd.get_dummies(df_c, columns=['proto'])\n",
    "df_c = pd.get_dummies(df_c, columns=['conn_state'])"
   ]
  },
  {
   "cell_type": "code",
   "execution_count": 239,
   "id": "appointed-absorption",
   "metadata": {},
   "outputs": [],
   "source": [
    "df_c['duration'] = df_c['duration'].str.replace('-','0')\n",
    "df_c['orig_bytes'] = df_c['orig_bytes'].str.replace('-','0')\n",
    "df_c['resp_bytes'] = df_c['resp_bytes'].str.replace('-','0')"
   ]
  },
  {
   "cell_type": "code",
   "execution_count": 240,
   "id": "informed-cancellation",
   "metadata": {},
   "outputs": [],
   "source": [
    "df_c.fillna(-1,inplace=True)"
   ]
  },
  {
   "cell_type": "code",
   "execution_count": 241,
   "id": "bacterial-somerset",
   "metadata": {},
   "outputs": [],
   "source": [
    "df_c.to_csv('iot23_combined.csv')"
   ]
  }
 ],
 "metadata": {
  "kernelspec": {
   "display_name": "Python 3",
   "language": "python",
   "name": "python3"
  },
  "language_info": {
   "codemirror_mode": {
    "name": "ipython",
    "version": 3
   },
   "file_extension": ".py",
   "mimetype": "text/x-python",
   "name": "python",
   "nbconvert_exporter": "python",
   "pygments_lexer": "ipython3",
   "version": "3.11.1"
  }
 },
 "nbformat": 4,
 "nbformat_minor": 5
}
